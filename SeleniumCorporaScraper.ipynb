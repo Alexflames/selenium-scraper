{
 "cells": [
  {
   "cell_type": "code",
   "execution_count": 1,
   "metadata": {},
   "outputs": [],
   "source": [
    "#conda install -c conda-forge selenium"
   ]
  },
  {
   "cell_type": "code",
   "execution_count": 2,
   "metadata": {},
   "outputs": [],
   "source": [
    "#conda install -c conda-forge python-chromedriver-binary==80.0.3987.106.0"
   ]
  },
  {
   "cell_type": "code",
   "execution_count": 3,
   "metadata": {},
   "outputs": [
    {
     "name": "stderr",
     "output_type": "stream",
     "text": [
      "."
     ]
    },
    {
     "name": "stdout",
     "output_type": "stream",
     "text": [
      "  Download the corpus for offline use\n",
      "\n",
      "Russia\n"
     ]
    },
    {
     "name": "stderr",
     "output_type": "stream",
     "text": [
      "\n",
      "----------------------------------------------------------------------\n",
      "Ran 1 test in 46.256s\n",
      "\n",
      "OK\n"
     ]
    }
   ],
   "source": [
    "from selenium import webdriver\n",
    "import chromedriver_binary\n",
    "import unittest\n",
    "import page\n",
    "\n",
    "class PythonOrgSearch(unittest.TestCase):\n",
    "    \"\"\"A sample test class to show how page object works\"\"\"\n",
    "\n",
    "    def setUp(self):\n",
    "        self.driver = webdriver.Chrome()\n",
    "        self.driver.maximize_window()\n",
    "        self.driver.get(\"https://www.english-corpora.org/now/\")\n",
    "\n",
    "    def test_search_in_python_org(self):\n",
    "        #Load the main page.\n",
    "        main_page = page.MainPage(self.driver)\n",
    "        \n",
    "        print(main_page.search_text_element)\n",
    "        main_page.search_text_element = \"Russia\"\n",
    "        print(main_page.search_text_element)\n",
    "        \n",
    "        main_page.click_find_matching_strings()\n",
    "        search_results_page = page.SearchResultsPage(self.driver)\n",
    "        #Verifies that the results page is not empty\n",
    "        #assert search_results_page.is_results_found(), \"No results found.\"\n",
    "\n",
    "    def tearDown(self):\n",
    "        #self.driver.close()\n",
    "        return\n",
    "\n",
    "if __name__ == '__main__':\n",
    "    unittest.main(argv=['first-arg-is-ignored'], exit=False)"
   ]
  },
  {
   "cell_type": "code",
   "execution_count": 4,
   "metadata": {},
   "outputs": [],
   "source": [
    "#!jupyter --config-dir"
   ]
  }
 ],
 "metadata": {
  "kernelspec": {
   "display_name": "Python 3",
   "language": "python",
   "name": "python3"
  },
  "language_info": {
   "codemirror_mode": {
    "name": "ipython",
    "version": 3
   },
   "file_extension": ".py",
   "mimetype": "text/x-python",
   "name": "python",
   "nbconvert_exporter": "python",
   "pygments_lexer": "ipython3",
   "version": "3.7.6"
  }
 },
 "nbformat": 4,
 "nbformat_minor": 4
}
